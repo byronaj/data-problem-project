{
 "cells": [
  {
   "cell_type": "code",
   "execution_count": 1,
   "metadata": {},
   "outputs": [],
   "source": [
    "import numpy as np\n",
    "import pandas as pd"
   ]
  },
  {
   "cell_type": "code",
   "execution_count": 148,
   "metadata": {},
   "outputs": [],
   "source": [
    "df = pd.read_csv('US_Life_Expectancy_at_Birth_by_State_and_Census_Tract_-_2010-2015.csv',\n",
    "                 usecols=['State',\n",
    "                          'County',\n",
    "                          'Life Expectancy'])"
   ]
  },
  {
   "cell_type": "code",
   "execution_count": 155,
   "metadata": {},
   "outputs": [],
   "source": [
    "counties = df[['County', 'Life Expectancy']]\n",
    "counties = counties.replace({'(blank)': np.NaN}).dropna()"
   ]
  },
  {
   "cell_type": "markdown",
   "metadata": {},
   "source": [
    "## County containing census tract with lowest life expectancy"
   ]
  },
  {
   "cell_type": "code",
   "execution_count": 150,
   "metadata": {},
   "outputs": [
    {
     "name": "stdout",
     "output_type": "stream",
     "text": [
      "Logan County, WV 56.9\n"
     ]
    }
   ],
   "source": [
    "high_county = counties.loc[counties['Life Expectancy'].idxmin()].to_list()\n",
    "print(*high_county)"
   ]
  },
  {
   "cell_type": "markdown",
   "metadata": {},
   "source": [
    "## County containing census tract with highest life expectancy"
   ]
  },
  {
   "cell_type": "code",
   "execution_count": 151,
   "metadata": {},
   "outputs": [
    {
     "name": "stdout",
     "output_type": "stream",
     "text": [
      "Chatham County, NC 97.5\n"
     ]
    }
   ],
   "source": [
    "low_county = counties.loc[counties['Life Expectancy'].idxmax()].to_list()\n",
    "print(*low_county)"
   ]
  },
  {
   "cell_type": "markdown",
   "metadata": {},
   "source": [
    "## Counties with highest and lowest average life expectancy"
   ]
  },
  {
   "cell_type": "code",
   "execution_count": 156,
   "metadata": {},
   "outputs": [
    {
     "name": "stdout",
     "output_type": "stream",
     "text": [
      "Lowest 10\n",
      "71.44 years\tWalker County, AL\n",
      "72.27 years\tWashington County, MS\n",
      "72.28 years\tPetersburg city, VA\n",
      "72.47 years\tDallas County, AL\n",
      "72.52 years\tEtowah County, AL\n",
      "72.56 years\tButler County, MO\n",
      "72.68 years\tPike County, KY\n",
      "72.72 years\tTalladega County, AL\n",
      "72.8 years\tRussell County, AL\n",
      "72.84 years\tCampbell County, TN\n",
      "\n",
      "Highest 10\n",
      "84.47 years\tKauai County, HI\n",
      "83.39 years\tMarin County, CA\n",
      "83.01 years\tMontgomery County, MD\n",
      "82.74 years\tSan Mateo County, CA\n",
      "82.65 years\tSanta Clara County, CA\n",
      "82.6 years\tHunterdon County, NJ\n",
      "82.59 years\tFairfax County, VA\n",
      "82.53 years\tCarroll County, NH\n",
      "82.4 years\tSan Benito County, CA\n",
      "82.37 years\tCarver County, MN\n"
     ]
    }
   ],
   "source": [
    "# filter out counties with less than 10 census tracts to reduce outlier effects\n",
    "counties = counties[counties.groupby('County')['Life Expectancy'].transform('size') >= 10]\n",
    "\n",
    "# group and aggregate what remains\n",
    "agg_counties = counties.groupby(['County'])['Life Expectancy'].mean().round(2).sort_values()\n",
    "top_dict = agg_counties.head(10).to_dict()\n",
    "print('Lowest 10')\n",
    "print(*(f'{v} years\\t{k}' for k, v in top_dict.items()), sep='\\n')\n",
    "\n",
    "agg_counties = counties.groupby(['County'])['Life Expectancy'].mean().round(2).sort_values(ascending=False)\n",
    "low_dict = agg_counties.head(10).to_dict()\n",
    "print('\\nHighest 10')\n",
    "print(*(f'{v} years\\t{k}' for k, v in low_dict.items()), sep='\\n')"
   ]
  },
  {
   "cell_type": "code",
   "execution_count": null,
   "metadata": {},
   "outputs": [],
   "source": []
  }
 ],
 "metadata": {
  "kernelspec": {
   "display_name": "Python 3",
   "language": "python",
   "name": "python3"
  },
  "language_info": {
   "codemirror_mode": {
    "name": "ipython",
    "version": 3
   },
   "file_extension": ".py",
   "mimetype": "text/x-python",
   "name": "python",
   "nbconvert_exporter": "python",
   "pygments_lexer": "ipython3",
   "version": "3.8.6"
  }
 },
 "nbformat": 4,
 "nbformat_minor": 4
}
